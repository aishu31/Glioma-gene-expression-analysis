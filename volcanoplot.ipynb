{
 "cells": [
  {
   "cell_type": "code",
   "execution_count": 3,
   "metadata": {},
   "outputs": [],
   "source": [
    "from bioinfokit import analys, visuz\n",
    "import pandas as pd\n",
    "from pathlib import Path"
   ]
  },
  {
   "cell_type": "code",
   "execution_count": 16,
   "metadata": {},
   "outputs": [],
   "source": [
    "### Enter the path of your input file here ###\n",
    "input_path = r\"/home/shankar/Desktop/pankaj/glioma/dataset/GSE134470.tsv\"\n",
    "### Enter the path of your input file here ###"
   ]
  },
  {
   "cell_type": "code",
   "execution_count": 17,
   "metadata": {},
   "outputs": [],
   "source": [
    "input_path = Path(input_path)\n",
    "plot_name = \"Volcano_\"+input_path.parts[-1].strip(\".txt\")\n",
    "folder_path = input_path.parent"
   ]
  },
  {
   "cell_type": "code",
   "execution_count": 18,
   "metadata": {},
   "outputs": [
    {
     "name": "stdout",
     "output_type": "stream",
     "text": [
      "Volcano_GSE134470.tsv successfully generated at /home/shankar/Desktop/pankaj/glioma/dataset\n"
     ]
    }
   ],
   "source": [
    "#print(plot_name)\n",
    "df = pd.read_csv(input_path,sep = \"\\t\")\n",
    "#print(df[\"P.Value\"].head())\n",
    "visuz.gene_exp.volcano(df=df, lfc='logFC', pv='P.Value',show = False, color=(\"blue\", \"black\",\"green\"), pv_thr = 0.05, lfc_thr = 1.0, axxlabel = \"log2FC\", axylabel = \"-log10(p-Value)\", ar=0, figname = plot_name)\n",
    "print(f\"{plot_name} successfully generated at {folder_path}\")"
   ]
  },
  {
   "cell_type": "code",
   "execution_count": 19,
   "metadata": {},
   "outputs": [],
   "source": [
    "### Enter the path of your input file here ###\n",
    "input_path = r\"/home/shankar/Desktop/pankaj/glioma/dataset/GSE90604.tsv\"\n",
    "### Enter the path of your input file here ###\n",
    "input_path = Path(input_path)\n",
    "plot_name = \"Volcano_\"+input_path.parts[-1].strip(\".txt\")\n",
    "folder_path = input_path.parent\n"
   ]
  },
  {
   "cell_type": "code",
   "execution_count": 13,
   "metadata": {},
   "outputs": [
    {
     "name": "stdout",
     "output_type": "stream",
     "text": [
      "Volcano_GSE90604.tsv successfully generated at /home/shankar/Desktop/pankaj/glioma/dataset\n"
     ]
    }
   ],
   "source": [
    "#print(plot_name)\n",
    "df = pd.read_csv(input_path,sep = \"\\t\")\n",
    "#print(df[\"P.Value\"].head())\n",
    "visuz.gene_exp.volcano(df=df, lfc='logFC', pv='P.Value',show = False, color=(\"blue\", \"black\",\"green\"), pv_thr = 0.05, lfc_thr = 1.0, axxlabel = \"log2FC\", axylabel = \"-log10(p-Value)\", ar=0, figname = plot_name)\n",
    "print(f\"{plot_name} successfully generated at {folder_path}\")"
   ]
  },
  {
   "cell_type": "code",
   "execution_count": 14,
   "metadata": {},
   "outputs": [],
   "source": [
    "### Enter the path of your input file here ###\n",
    "input_path = r\"/home/shankar/Desktop/pankaj/glioma/dataset/GSE103227.tsv\"\n",
    "### Enter the path of your input file here ###\n",
    "input_path = Path(input_path)\n",
    "plot_name = \"Volcano_\"+input_path.parts[-1].strip(\".txt\")\n",
    "folder_path = input_path.parent\n"
   ]
  },
  {
   "cell_type": "code",
   "execution_count": 15,
   "metadata": {},
   "outputs": [
    {
     "name": "stdout",
     "output_type": "stream",
     "text": [
      "Volcano_GSE103227.tsv successfully generated at /home/shankar/Desktop/pankaj/glioma/dataset\n"
     ]
    }
   ],
   "source": [
    "#print(plot_name)\n",
    "df = pd.read_csv(input_path,sep = \"\\t\")\n",
    "#print(df[\"P.Value\"].head())\n",
    "visuz.gene_exp.volcano(df=df, lfc='logFC', pv='P.Value',show = False, color=(\"blue\", \"black\",\"green\"), pv_thr = 0.05, lfc_thr = 1.5, axxlabel = \"log2FC\", axylabel = \"-log10(p-Value)\", ar=0, figname = plot_name)\n",
    "print(f\"{plot_name} successfully generated at {folder_path}\")"
   ]
  },
  {
   "cell_type": "code",
   "execution_count": 24,
   "metadata": {},
   "outputs": [],
   "source": [
    "### Enter the path of your input file here ###\n",
    "input_path = r\"/home/shankar/Desktop/pankaj/glioma/dataset/gse151352.txt\"\n",
    "### Enter the path of your input file here ###\n",
    "input_path = Path(input_path)\n",
    "plot_name = \"Volcano_\"+input_path.parts[-1].strip(\".txt\")\n",
    "folder_path = input_path.parent\n"
   ]
  },
  {
   "cell_type": "code",
   "execution_count": 25,
   "metadata": {},
   "outputs": [
    {
     "name": "stdout",
     "output_type": "stream",
     "text": [
      "Volcano_gse151352 successfully generated at /home/shankar/Desktop/pankaj/glioma/dataset\n"
     ]
    }
   ],
   "source": [
    "#print(plot_name)\n",
    "df = pd.read_csv(input_path,sep = \"\\t\")\n",
    "#print(df[\"P.Value\"].head())\n",
    "visuz.gene_exp.volcano(df=df, lfc='logFC', pv='P.Value',show = False, color=(\"blue\", \"black\",\"green\"), pv_thr = 0.05, lfc_thr = 1.5, axxlabel = \"log2FC\", axylabel = \"-log10(p-Value)\", ar=0, figname = plot_name)\n",
    "print(f\"{plot_name} successfully generated at {folder_path}\")"
   ]
  },
  {
   "cell_type": "code",
   "execution_count": 4,
   "metadata": {},
   "outputs": [],
   "source": [
    "### Enter the path of your input file here ###\n",
    "input_path = r\"/home/shankar/Desktop/pankaj/glioma/dataset/GSE50161.tsv\"\n",
    "### Enter the path of your input file here ###\n",
    "input_path = Path(input_path)\n",
    "plot_name = \"Volcano_\"+input_path.parts[-1].strip(\".txt\")\n",
    "folder_path = input_path.parent"
   ]
  },
  {
   "cell_type": "code",
   "execution_count": 5,
   "metadata": {},
   "outputs": [
    {
     "name": "stderr",
     "output_type": "stream",
     "text": [
      "findfont: Font family ['Arial'] not found. Falling back to DejaVu Sans.\n"
     ]
    },
    {
     "name": "stdout",
     "output_type": "stream",
     "text": [
      "Volcano_GSE50161.tsv successfully generated at /home/shankar/Desktop/pankaj/glioma/dataset\n"
     ]
    }
   ],
   "source": [
    "#print(plot_name)\n",
    "df = pd.read_csv(input_path,sep = \"\\t\")\n",
    "#print(df[\"P.Value\"].head())\n",
    "visuz.gene_exp.volcano(df=df, lfc='logFC', pv='P.Value',show = False, color=(\"blue\", \"black\",\"green\"), pv_thr = 0.05, lfc_thr = 1.5, axxlabel = \"log2FC\", axylabel = \"-log10(p-Value)\", ar=0, figname = plot_name)\n",
    "print(f\"{plot_name} successfully generated at {folder_path}\")"
   ]
  },
  {
   "cell_type": "code",
   "execution_count": null,
   "metadata": {},
   "outputs": [],
   "source": []
  }
 ],
 "metadata": {
  "kernelspec": {
   "display_name": "Python 3",
   "language": "python",
   "name": "python3"
  },
  "language_info": {
   "codemirror_mode": {
    "name": "ipython",
    "version": 3
   },
   "file_extension": ".py",
   "mimetype": "text/x-python",
   "name": "python",
   "nbconvert_exporter": "python",
   "pygments_lexer": "ipython3",
   "version": "3.7.6"
  }
 },
 "nbformat": 4,
 "nbformat_minor": 4
}
